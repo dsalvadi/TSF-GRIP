{
 "cells": [
  {
   "cell_type": "markdown",
   "id": "4777ca7c",
   "metadata": {},
   "source": [
    "# TSF GRIP - Task 1\n",
    "## Object Detection\n",
    "\n",
    "1. Import dependancies and set up environment"
   ]
  },
  {
   "cell_type": "code",
   "execution_count": 1,
   "id": "01b3ca14",
   "metadata": {},
   "outputs": [],
   "source": [
    "import numpy as np\n",
    "import argparse\n",
    "import cv2\n",
    "\n",
    "# construct the argument parse and parse the arguments\n",
    "ap = argparse.ArgumentParser()\n",
    "\n",
    "ap = argparse.ArgumentParser()\n",
    "ap.add_argument(\"-i\", \"--image\", required=True, help=\"path to input image\")\n",
    "ap.add_argument(\"-p\", \"--prototxt\", required=True, help=\"path to Caffe 'deploy' prototxt file\")\n",
    "ap.add_argument(\"-m\", \"--model\", required=True, help=\"path to Caffe pre-trained model\")\n",
    "ap.add_argument(\"-c\", \"--confidence\", type=float, default=0.2, help=\"minimum probability to filter weak detections\")\n",
    "\n",
    "arg = ['--image', 'D:\\\\DhruvData\\\\Python Stuff\\\\TSF\\\\Task 1\\\\basketball_game.jpg', \n",
    "            '--prototxt', 'D:\\\\DhruvData\\\\Python Stuff\\\\TSF\\\\Task 1\\\\deploy.prototxt',\n",
    "           '--model', 'D:\\\\DhruvData\\\\Python Stuff\\\\TSF\\\\Task 1\\\\MobileNetSSD_deploy.caffemodel']\n",
    "\n",
    "args = vars(ap.parse_args(arg))\n",
    "\n",
    "# D:\\DhruvData\\Python Stuff\\TSF\\Task 1\\basketball_game.jpg\n"
   ]
  },
  {
   "cell_type": "markdown",
   "id": "f9fc76b0",
   "metadata": {},
   "source": [
    "2. Initialize list of class labels and set up bounding box colours for the same."
   ]
  },
  {
   "cell_type": "code",
   "execution_count": 2,
   "id": "092cb668",
   "metadata": {},
   "outputs": [],
   "source": [
    "CLASSES = [\"background\", \"aeroplane\", \"bicycle\", \"bird\", \"boat\", \"bottle\", \"bus\", \"car\", \"cat\", \"chair\", \"cow\", \n",
    "           \"diningtable\", \"dog\", \"horse\", \"motorbike\", \"person\", \"pottedplant\", \"sheep\",\"sofa\", \"train\", \"tvmonitor\"]\n",
    "COLORS = np.random.uniform(0, 255, size=(len(CLASSES), 3))"
   ]
  },
  {
   "cell_type": "markdown",
   "id": "cb78e0a2",
   "metadata": {},
   "source": [
    "3. Load Model"
   ]
  },
  {
   "cell_type": "code",
   "execution_count": 3,
   "id": "6598d4c8",
   "metadata": {},
   "outputs": [
    {
     "name": "stdout",
     "output_type": "stream",
     "text": [
      "[INFO] loading model...\n"
     ]
    }
   ],
   "source": [
    "print(\"[INFO] loading model...\")\n",
    "net = cv2.dnn.readNetFromCaffe(args[\"prototxt\"], args[\"model\"])"
   ]
  },
  {
   "cell_type": "markdown",
   "id": "f362d7b4",
   "metadata": {},
   "source": [
    "4. Load query image and prepare blob"
   ]
  },
  {
   "cell_type": "code",
   "execution_count": 4,
   "id": "3890b268",
   "metadata": {},
   "outputs": [],
   "source": [
    "# Here, we load the input image and construct an input blob for the image by \n",
    "# resizing it to a fixed 300x300 pixels and then normalizing it. \n",
    "# Normalization is handled by the MobileNet Implementation.\n",
    "\n",
    "image = cv2.imread(args[\"image\"])\n",
    "(h, w) = image.shape[:2]\n",
    "blob = cv2.dnn.blobFromImage(cv2.resize(image, (300, 300)), 0.007843, (300, 300), 127.5)"
   ]
  },
  {
   "cell_type": "markdown",
   "id": "12dfc689",
   "metadata": {},
   "source": [
    "5. Passing blob through neural network"
   ]
  },
  {
   "cell_type": "code",
   "execution_count": 5,
   "id": "61642f1e",
   "metadata": {},
   "outputs": [
    {
     "name": "stdout",
     "output_type": "stream",
     "text": [
      "[INFO] computing object detections...\n"
     ]
    },
    {
     "ename": "error",
     "evalue": "OpenCV(4.5.1) D:\\Installers\\OpenCV\\opencv-4.5.1\\modules\\dnn\\src\\layers\\batch_norm_layer.cpp:47: error: (-215:Assertion failed) blobs.size() >= 2 in function 'cv::dnn::BatchNormLayerImpl::BatchNormLayerImpl'\n",
     "output_type": "error",
     "traceback": [
      "\u001b[1;31m---------------------------------------------------------------------------\u001b[0m",
      "\u001b[1;31merror\u001b[0m                                     Traceback (most recent call last)",
      "\u001b[1;32m~\\AppData\\Local\\Temp/ipykernel_14944/2163758589.py\u001b[0m in \u001b[0;36m<module>\u001b[1;34m\u001b[0m\n\u001b[0;32m      3\u001b[0m \u001b[0mprint\u001b[0m\u001b[1;33m(\u001b[0m\u001b[1;34m\"[INFO] computing object detections...\"\u001b[0m\u001b[1;33m)\u001b[0m\u001b[1;33m\u001b[0m\u001b[1;33m\u001b[0m\u001b[0m\n\u001b[0;32m      4\u001b[0m \u001b[0mnet\u001b[0m\u001b[1;33m.\u001b[0m\u001b[0msetInput\u001b[0m\u001b[1;33m(\u001b[0m\u001b[0mblob\u001b[0m\u001b[1;33m)\u001b[0m\u001b[1;33m\u001b[0m\u001b[1;33m\u001b[0m\u001b[0m\n\u001b[1;32m----> 5\u001b[1;33m \u001b[0mdetections\u001b[0m \u001b[1;33m=\u001b[0m \u001b[0mnet\u001b[0m\u001b[1;33m.\u001b[0m\u001b[0mforward\u001b[0m\u001b[1;33m(\u001b[0m\u001b[1;33m)\u001b[0m\u001b[1;33m\u001b[0m\u001b[1;33m\u001b[0m\u001b[0m\n\u001b[0m",
      "\u001b[1;31merror\u001b[0m: OpenCV(4.5.1) D:\\Installers\\OpenCV\\opencv-4.5.1\\modules\\dnn\\src\\layers\\batch_norm_layer.cpp:47: error: (-215:Assertion failed) blobs.size() >= 2 in function 'cv::dnn::BatchNormLayerImpl::BatchNormLayerImpl'\n"
     ]
    }
   ],
   "source": [
    "# here, we pass the blob through the network and obtain the detections and predictions\n",
    "\n",
    "print(\"[INFO] computing object detections...\")\n",
    "net.setInput(blob)\n",
    "detections = net.forward()"
   ]
  },
  {
   "cell_type": "code",
   "execution_count": null,
   "id": "e77a6afb",
   "metadata": {},
   "outputs": [],
   "source": []
  }
 ],
 "metadata": {
  "kernelspec": {
   "display_name": "Python 3 (ipykernel)",
   "language": "python",
   "name": "python3"
  },
  "language_info": {
   "codemirror_mode": {
    "name": "ipython",
    "version": 3
   },
   "file_extension": ".py",
   "mimetype": "text/x-python",
   "name": "python",
   "nbconvert_exporter": "python",
   "pygments_lexer": "ipython3",
   "version": "3.9.1"
  }
 },
 "nbformat": 4,
 "nbformat_minor": 5
}
